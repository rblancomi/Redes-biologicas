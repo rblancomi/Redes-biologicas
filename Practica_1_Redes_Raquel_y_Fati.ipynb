{
 "cells": [
  {
   "cell_type": "code",
   "execution_count": 2,
   "metadata": {},
   "outputs": [],
   "source": [
    "import numpy as np\n",
    "import networkx as nx\n"
   ]
  },
  {
   "cell_type": "code",
   "execution_count": 5,
   "metadata": {},
   "outputs": [],
   "source": [
    "# Cargamos el archivo\n",
    "\n",
    "G_CE = nx.read_edgelist(\"CaernoElegans-LC_uw.txt\")"
   ]
  },
  {
   "cell_type": "code",
   "execution_count": 38,
   "metadata": {},
   "outputs": [
    {
     "data": {
      "text/plain": [
       "1387"
      ]
     },
     "execution_count": 38,
     "metadata": {},
     "output_type": "execute_result"
    }
   ],
   "source": [
    "# Obtened e imprimid por la salida el orden y el tamaño del grafo y averiguad si el grafo es dirigido o no. \n",
    "# ¿Es un grafo denso o disperso?\n",
    "\n",
    "\n",
    "Orden=nx.number_of_nodes(G_CE)\n",
    "Tamaño=nx.number_of_edges(G_CE)\n",
    "\n",
    "nx.is_directed(G_CE) # No es dirigido\n",
    "\n",
    "nx.density(G_CE) # Devuelve un valor comprendido entre 0 y 1. Al estar más próximo a 0, podemos concluir que se trata de un grafo disperso\n",
    "\n",
    "#nx.draw(G_CE)\n",
    "\n"
   ]
  },
  {
   "cell_type": "code",
   "execution_count": 33,
   "metadata": {},
   "outputs": [
    {
     "data": {
      "image/png": "[encoded data removed]",
      "text/plain": [
       "<Figure size 432x288 with 1 Axes>"
      ]
     },
     "metadata": {},
     "output_type": "display_data"
    }
   ],
   "source": [
    "# Cread un grafo aleatorio G_AL que tenga el mismo orden y tamaño que el grafo que acabáis de cargar mediante \n",
    "# la función gnm_random_graph(n,m)\n",
    "\n",
    "G_AL = nx.gnm_random_graph(Orden,Tamaño)\n",
    "nx.draw(G_AL)"
   ]
  },
  {
   "cell_type": "code",
   "execution_count": 37,
   "metadata": {},
   "outputs": [
    {
     "data": {
      "text/plain": [
       "False"
      ]
     },
     "execution_count": 37,
     "metadata": {},
     "output_type": "execute_result"
    }
   ],
   "source": [
    "# Indica si ambos grafos son conexos\n",
    "\n",
    "nx.is_connected(G_CE) # No conexo\n",
    "\n",
    "nx.is_connected(G_AL) # No conexo"
   ]
  },
  {
   "cell_type": "code",
   "execution_count": 48,
   "metadata": {},
   "outputs": [
    {
     "data": {
      "text/plain": [
       "('T08G11.5', 131)"
      ]
     },
     "execution_count": 48,
     "metadata": {},
     "output_type": "execute_result"
    }
   ],
   "source": [
    "# ¿Cuál es el nodo con mayor grado en cada grafo?\n",
    "\n",
    "sorted(G_CE.degree, key = lambda x: x[1], reverse = True)[0] # Da 131 que es mucho más alto que en el aleatorio...\n",
    "sorted(G_AL.degree, key = lambda x: x[1], reverse = True)[0]"
   ]
  },
  {
   "cell_type": "code",
   "execution_count": 77,
   "metadata": {},
   "outputs": [
    {
     "name": "stdout",
     "output_type": "stream",
     "text": [
      "22\n",
      "2\n",
      "2\n",
      "2\n",
      "1\n",
      "1\n",
      "2\n",
      "4\n",
      "1\n",
      "2\n",
      "3\n",
      "1\n",
      "1\n",
      "1\n",
      "1\n",
      "1\n",
      "1\n",
      "2\n",
      "1\n",
      "1\n",
      "4\n",
      "2\n",
      "1\n",
      "4\n",
      "1\n",
      "3\n",
      "1\n",
      "1\n",
      "1\n",
      "2\n",
      "1\n",
      "1\n",
      "1\n",
      "1\n",
      "1\n",
      "2\n",
      "3\n",
      "1\n",
      "2\n",
      "1\n",
      "1\n",
      "1\n",
      "1\n",
      "2\n",
      "1\n",
      "2\n",
      "1\n",
      "1\n",
      "2\n",
      "7\n",
      "1\n",
      "1\n",
      "1\n",
      "2\n",
      "3\n",
      "2\n",
      "1\n",
      "1\n",
      "1\n",
      "2\n",
      "1\n",
      "1\n",
      "1\n",
      "1\n",
      "1\n",
      "1\n",
      "1\n",
      "3\n",
      "2\n",
      "1\n",
      "1\n",
      "3\n",
      "2\n",
      "1\n",
      "2\n",
      "2\n",
      "2\n",
      "1\n",
      "2\n",
      "1\n",
      "1\n",
      "1\n",
      "1\n",
      "1\n",
      "1\n",
      "1\n",
      "1\n",
      "1\n",
      "2\n"
     ]
    }
   ],
   "source": [
    "# ¿Cuál es la máxima distancia entre dos nodos del grafo (diámetro del grafo)?\n",
    "\n",
    "#nx.diameter(G_CE) # Found infinite path length because the graph is not connected\n",
    "\n",
    "a = nx.connected_components(G_CE)\n",
    "for i in a:\n",
    "    #nx.diameter(i)\n",
    "    b=nx.subgraph(G_CE,i)\n",
    "    c=nx.diameter(b)\n",
    "    print(c)\n",
    "    \n",
    "#nx.number_connected_components(G_CE)\n"
   ]
  },
  {
   "cell_type": "code",
   "execution_count": null,
   "metadata": {},
   "outputs": [],
   "source": []
  },
  {
   "cell_type": "code",
   "execution_count": null,
   "metadata": {},
   "outputs": [],
   "source": []
  }
 ],
 "metadata": {
  "kernelspec": {
   "display_name": "Python 3",
   "language": "python",
   "name": "python3"
  },
  "language_info": {
   "codemirror_mode": {
    "name": "ipython",
    "version": 3
   },
   "file_extension": ".py",
   "mimetype": "text/x-python",
   "name": "python",
   "nbconvert_exporter": "python",
   "pygments_lexer": "ipython3",
   "version": "3.8.5"
  }
 },
 "nbformat": 4,
 "nbformat_minor": 4
}
